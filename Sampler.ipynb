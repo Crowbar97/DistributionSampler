{
  "nbformat": 4,
  "nbformat_minor": 0,
  "metadata": {
    "colab": {
      "name": "Sampler.ipynb",
      "provenance": [],
      "include_colab_link": true
    },
    "kernelspec": {
      "name": "python3",
      "display_name": "Python 3"
    }
  },
  "cells": [
    {
      "cell_type": "markdown",
      "metadata": {
        "id": "view-in-github",
        "colab_type": "text"
      },
      "source": [
        "<a href=\"https://colab.research.google.com/github/Crowbar97/DistributionSampler/blob/master/Sampler.ipynb\" target=\"_parent\"><img src=\"https://colab.research.google.com/assets/colab-badge.svg\" alt=\"Open In Colab\"/></a>"
      ]
    },
    {
      "cell_type": "code",
      "metadata": {
        "id": "lJzjJ3a59RsM",
        "colab_type": "code",
        "colab": {}
      },
      "source": [
        "import numpy as np\n",
        "from scipy.special import gamma\n",
        "from scipy import optimize, integrate\n",
        "from operator import add\n",
        "from math import sqrt, pi, exp, log2\n",
        "from functools import reduce\n",
        "import matplotlib.pyplot as plt\n",
        "import matplotlib.pylab as pylab\n",
        "params = {'legend.fontsize': 'x-large',\n",
        "          'figure.figsize': (15, 5),\n",
        "          'axes.labelsize': 'x-large',\n",
        "          'axes.titlesize': 'x-large',\n",
        "          'xtick.labelsize': 'x-large',\n",
        "          'ytick.labelsize': 'x-large'}\n",
        "pylab.rcParams.update(params)"
      ],
      "execution_count": 0,
      "outputs": []
    },
    {
      "cell_type": "code",
      "metadata": {
        "id": "jcPSQOly9W9R",
        "colab_type": "code",
        "colab": {}
      },
      "source": [
        "class Distribs:\n",
        "    @staticmethod\n",
        "    def get_uniform_points(count, left_bound=0, right_bound=1):\n",
        "        return np.random.uniform(left_bound, right_bound, int(count))\n",
        "\n",
        "    @staticmethod\n",
        "    def some_density(x, mu=5):\n",
        "      return 1 / (2 * sqrt(2 * pi)) * (exp(-(x - mu) ** 2 / 2) + exp(-(x + mu) ** 2 / 2))"
      ],
      "execution_count": 0,
      "outputs": []
    },
    {
      "cell_type": "code",
      "metadata": {
        "id": "hUiPdkB0J6VQ",
        "colab_type": "code",
        "colab": {}
      },
      "source": [
        "class Plotter:\n",
        "    @staticmethod\n",
        "    def plot(fun, left_bound, right_bound, step):\n",
        "        plt.figure()\n",
        "\n",
        "        x = np.arange(left_bound, right_bound, step)\n",
        "        y = list(map(fun, x))\n",
        "\n",
        "        plt.plot(x, y, 'go-', label=\"y\")\n",
        "\n",
        "        plt.xlabel(\"x\", fontsize=20)\n",
        "        plt.ylabel(\"y\", fontsize=20)\n",
        "        plt.grid(True)\n",
        "        plt.legend(loc=0, fontsize=20)\n",
        "\n",
        "        plt.show()\n",
        "        pass\n",
        "\n",
        "    @staticmethod\n",
        "    def plot_by_points(x, y):\n",
        "        plt.figure()\n",
        "\n",
        "        plt.plot(x, y, 'go-', label=\"y\")\n",
        "\n",
        "        plt.xlabel(\"x\", fontsize=20)\n",
        "        plt.ylabel(\"density\", fontsize=20)\n",
        "        plt.grid(True)\n",
        "        plt.legend(loc=0, fontsize=20)\n",
        "\n",
        "        plt.show()\n",
        "        pass"
      ],
      "execution_count": 0,
      "outputs": []
    },
    {
      "cell_type": "code",
      "metadata": {
        "id": "kENUaCeMOgHz",
        "colab_type": "code",
        "colab": {}
      },
      "source": [
        "class Parzen:\n",
        "    @staticmethod\n",
        "    def rect_kernel(z):\n",
        "        return 0.5 * int(abs(z) < 1)\n",
        "\n",
        "    @staticmethod\n",
        "    def density(x, points, h):\n",
        "        sum = 0\n",
        "        for p in points:\n",
        "            sum += Parzen.rect_kernel((x - p) / h)\n",
        "        return 1 / (len(points) * h) * sum\n",
        "\n",
        "    @staticmethod\n",
        "    def estimate_density(distr_points, h, test_points):\n",
        "        return list(map(lambda p: Parzen.density(p, distr_points, h),\n",
        "                        test_points))"
      ],
      "execution_count": 0,
      "outputs": []
    },
    {
      "cell_type": "code",
      "metadata": {
        "id": "gkuV6KLDAK-g",
        "colab_type": "code",
        "colab": {}
      },
      "source": [
        "class Sampler:\n",
        "    @staticmethod\n",
        "    def sample(point, density):\n",
        "        fun = lambda x: integrate.quad(density, -np.inf, x)[0] - point\n",
        "        # Plotter.plot(fun, -10, 10, 0.1)\n",
        "        # print(fun(100))\n",
        "        x = optimize.bisect(fun, -10, 10)\n",
        "        return x"
      ],
      "execution_count": 0,
      "outputs": []
    },
    {
      "cell_type": "code",
      "metadata": {
        "id": "K3AqbU0cS2mx",
        "colab_type": "code",
        "colab": {}
      },
      "source": [
        "Plotter.plot(Distribs.some_density, -10, 10, 0.1)"
      ],
      "execution_count": 0,
      "outputs": []
    },
    {
      "cell_type": "code",
      "metadata": {
        "id": "PKqXHNuf-6q8",
        "colab_type": "code",
        "colab": {}
      },
      "source": [
        "uniform_points = Distribs.get_uniform_points(1e4)\n",
        "y = list(map(lambda uniform_point: Sampler.sample(uniform_point, Distribs.some_density), uniform_points))"
      ],
      "execution_count": 0,
      "outputs": []
    },
    {
      "cell_type": "code",
      "metadata": {
        "id": "h6cGxX-yS50A",
        "colab_type": "code",
        "colab": {}
      },
      "source": [
        "x = np.arange(-10, 10, 0.1)\n",
        "# est_dense = Parzen.estimate_density(y, 0.4, x)\n",
        "# Plotter.plot_by_points(x, est_dense)"
      ],
      "execution_count": 0,
      "outputs": []
    },
    {
      "cell_type": "code",
      "metadata": {
        "id": "g4ndU417Fd-T",
        "colab_type": "code",
        "colab": {}
      },
      "source": [
        "plt.hist(y, bins=200)\n",
        "plt.show()"
      ],
      "execution_count": 0,
      "outputs": []
    },
    {
      "cell_type": "code",
      "metadata": {
        "id": "CKsTQN5iUIh6",
        "colab_type": "code",
        "colab": {
          "base_uri": "https://localhost:8080/",
          "height": 402
        },
        "outputId": "11d12071-0f28-4bf1-9477-80363c01ffaa"
      },
      "source": [
        "plt.plot(x, np.array(list(map(Distribs.some_density, x))), 'go-', label=\"y\")\n",
        "plt.hist(y, bins=200, normed=True)\n",
        "\n",
        "plt.xlabel(\"x\", fontsize=20)\n",
        "plt.ylabel(\"density / count\", fontsize=20)\n",
        "plt.grid(True)\n",
        "plt.legend(loc=0, fontsize=20)\n",
        "\n",
        "plt.show()"
      ],
      "execution_count": 124,
      "outputs": [
        {
          "output_type": "stream",
          "text": [
            "/usr/local/lib/python3.6/dist-packages/matplotlib/axes/_axes.py:6521: MatplotlibDeprecationWarning: \n",
            "The 'normed' kwarg was deprecated in Matplotlib 2.1 and will be removed in 3.1. Use 'density' instead.\n",
            "  alternative=\"'density'\", removal=\"3.1\")\n"
          ],
          "name": "stderr"
        },
        {
          "output_type": "display_data",
          "data": {
            "image/png": "[encoded data removed]",
            "text/plain": [
              "<Figure size 1080x360 with 1 Axes>"
            ]
          },
          "metadata": {
            "tags": []
          }
        }
      ]
    }
  ]
}